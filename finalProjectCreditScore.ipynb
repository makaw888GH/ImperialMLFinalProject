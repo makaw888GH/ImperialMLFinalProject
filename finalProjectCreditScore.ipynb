{
 "cells": [
  {
   "cell_type": "markdown",
   "id": "6e9e6b03-87cd-42c3-b65c-2f0cf017b7b6",
   "metadata": {},
   "source": [
    "# Source Code Courtesy of Bruce Yanghy and MIT\n",
    "\n",
    "https://github.com/BruceYanghy/End-to-End-Guide-to-Building-a-Credit-Scorecard-Using-Machine-Learning/blob/main/LICENSE\n",
    "\n",
    "## Modified to include Hyperparameter Optimisation"
   ]
  },
  {
   "cell_type": "code",
   "execution_count": 4,
   "id": "8d8c69ea-3bba-4207-964b-359f71839cfa",
   "metadata": {},
   "outputs": [],
   "source": [
    "import pandas as pd\n",
    "from sklearn.metrics import roc_auc_score,roc_curve,auc,precision_recall_curve\n",
    "from sklearn.model_selection import train_test_split\n",
    "from sklearn.linear_model import LogisticRegression \n",
    "from sklearn.ensemble import GradientBoostingClassifier\n",
    "\n",
    "import numpy as np\n",
    "import glob\n",
    "import math\n",
    "import seaborn as sns \n",
    "import matplotlib.pyplot as plt\n",
    "import toad\n",
    "import pickle"
   ]
  },
  {
   "cell_type": "markdown",
   "id": "1cd14dd5-1724-46af-9fc7-7c0bb4f27660",
   "metadata": {},
   "source": [
    "# 1. Data Preprocessing"
   ]
  },
  {
   "cell_type": "code",
   "execution_count": 5,
   "id": "3dc169c9-dad3-4460-8a84-1d4654388443",
   "metadata": {},
   "outputs": [],
   "source": [
    "def data_split(df, start, end, date_col):\n",
    "    \"\"\"\n",
    "    split the dataset into training or testing using date\n",
    "    :param data: (df) pandas dataframe, start, end\n",
    "    :return: (df) pandas dataframe\n",
    "    \"\"\"\n",
    "    data = df[(df[date_col] >= start) & (df[date_col] < end)]\n",
    "    #data = df[(df.order_date >= start) & (df.order_date < end)]\n",
    "    data = data.reset_index(drop=True)\n",
    "    #data = data.sort_values([\"date\", \"tic\"], ignore_index=True)\n",
    "    #data.index = data.date.factorize()[0]\n",
    "    return data\n",
    "\n",
    "\n",
    "def target_info(df_target_column):\n",
    "    '''\n",
    "    Print target column information -- count for each unique values in target column\n",
    "    Input: target column in dataframe\n",
    "    '''\n",
    "    proportion_true=str(round(sum(df_target_column == True) / len(df_target_column), 2) * 100)\n",
    "    \n",
    "    proportion_false=str(round(sum(df_target_column == False) / len(df_target_column), 3) * 100)\n",
    "    \n",
    "    print('There are total {} records in our data.'.format(len(df_target_column)))\n",
    "    print('Is Fraud:')\n",
    "    print('Count: {}'.format(sum(df_target_column == True)))\n",
    "    print('Proportion (Fraud): {}'.format(proportion_true\n",
    "                                  + '%'))\n",
    "    print('Not Fraud:')\n",
    "    print('Count: {}'.format(sum(df_target_column == False)))\n",
    "    print('Proportion (Not Fraud): {}'.format(proportion_false\n",
    "                                  + '%'))\n",
    "    plt.figure(figsize=(5, 5))\n",
    "    sns.barplot(x=df_target_column.value_counts().index, y=df_target_column.value_counts())\n",
    "    plt.title('Not Fraud vs Fraud Counts')\n",
    "    plt.ylabel('Count')\n",
    "    return proportion_true"
   ]
  },
  {
   "cell_type": "code",
   "execution_count": 6,
   "id": "b91f6ad5-617a-40cc-885c-7e13b627688f",
   "metadata": {},
   "outputs": [],
   "source": [
    "# use pandas to load the csv file\n",
    "data = pd.read_csv('UCI_Credit_Card.csv')"
   ]
  },
  {
   "cell_type": "code",
   "execution_count": 7,
   "id": "15280c02-16ed-4d53-9867-2f153adebfec",
   "metadata": {},
   "outputs": [
    {
     "data": {
      "text/plain": [
       "(30000, 25)"
      ]
     },
     "execution_count": 7,
     "metadata": {},
     "output_type": "execute_result"
    }
   ],
   "source": [
    "# check the size of the data\n",
    "data.shape"
   ]
  },
  {
   "cell_type": "code",
   "execution_count": 8,
   "id": "aa3cd921-682c-4730-9531-ea6155a2fba1",
   "metadata": {},
   "outputs": [
    {
     "data": {
      "text/html": [
       "<div>\n",
       "<style scoped>\n",
       "    .dataframe tbody tr th:only-of-type {\n",
       "        vertical-align: middle;\n",
       "    }\n",
       "\n",
       "    .dataframe tbody tr th {\n",
       "        vertical-align: top;\n",
       "    }\n",
       "\n",
       "    .dataframe thead th {\n",
       "        text-align: right;\n",
       "    }\n",
       "</style>\n",
       "<table border=\"1\" class=\"dataframe\">\n",
       "  <thead>\n",
       "    <tr style=\"text-align: right;\">\n",
       "      <th></th>\n",
       "      <th>ID</th>\n",
       "      <th>LIMIT_BAL</th>\n",
       "      <th>SEX</th>\n",
       "      <th>EDUCATION</th>\n",
       "      <th>MARRIAGE</th>\n",
       "      <th>AGE</th>\n",
       "      <th>PAY_0</th>\n",
       "      <th>PAY_2</th>\n",
       "      <th>PAY_3</th>\n",
       "      <th>PAY_4</th>\n",
       "      <th>...</th>\n",
       "      <th>BILL_AMT4</th>\n",
       "      <th>BILL_AMT5</th>\n",
       "      <th>BILL_AMT6</th>\n",
       "      <th>PAY_AMT1</th>\n",
       "      <th>PAY_AMT2</th>\n",
       "      <th>PAY_AMT3</th>\n",
       "      <th>PAY_AMT4</th>\n",
       "      <th>PAY_AMT5</th>\n",
       "      <th>PAY_AMT6</th>\n",
       "      <th>default.payment.next.month</th>\n",
       "    </tr>\n",
       "  </thead>\n",
       "  <tbody>\n",
       "    <tr>\n",
       "      <th>0</th>\n",
       "      <td>1</td>\n",
       "      <td>20000.0</td>\n",
       "      <td>2</td>\n",
       "      <td>2</td>\n",
       "      <td>1</td>\n",
       "      <td>24</td>\n",
       "      <td>2</td>\n",
       "      <td>2</td>\n",
       "      <td>-1</td>\n",
       "      <td>-1</td>\n",
       "      <td>...</td>\n",
       "      <td>0.0</td>\n",
       "      <td>0.0</td>\n",
       "      <td>0.0</td>\n",
       "      <td>0.0</td>\n",
       "      <td>689.0</td>\n",
       "      <td>0.0</td>\n",
       "      <td>0.0</td>\n",
       "      <td>0.0</td>\n",
       "      <td>0.0</td>\n",
       "      <td>1</td>\n",
       "    </tr>\n",
       "    <tr>\n",
       "      <th>1</th>\n",
       "      <td>2</td>\n",
       "      <td>120000.0</td>\n",
       "      <td>2</td>\n",
       "      <td>2</td>\n",
       "      <td>2</td>\n",
       "      <td>26</td>\n",
       "      <td>-1</td>\n",
       "      <td>2</td>\n",
       "      <td>0</td>\n",
       "      <td>0</td>\n",
       "      <td>...</td>\n",
       "      <td>3272.0</td>\n",
       "      <td>3455.0</td>\n",
       "      <td>3261.0</td>\n",
       "      <td>0.0</td>\n",
       "      <td>1000.0</td>\n",
       "      <td>1000.0</td>\n",
       "      <td>1000.0</td>\n",
       "      <td>0.0</td>\n",
       "      <td>2000.0</td>\n",
       "      <td>1</td>\n",
       "    </tr>\n",
       "    <tr>\n",
       "      <th>2</th>\n",
       "      <td>3</td>\n",
       "      <td>90000.0</td>\n",
       "      <td>2</td>\n",
       "      <td>2</td>\n",
       "      <td>2</td>\n",
       "      <td>34</td>\n",
       "      <td>0</td>\n",
       "      <td>0</td>\n",
       "      <td>0</td>\n",
       "      <td>0</td>\n",
       "      <td>...</td>\n",
       "      <td>14331.0</td>\n",
       "      <td>14948.0</td>\n",
       "      <td>15549.0</td>\n",
       "      <td>1518.0</td>\n",
       "      <td>1500.0</td>\n",
       "      <td>1000.0</td>\n",
       "      <td>1000.0</td>\n",
       "      <td>1000.0</td>\n",
       "      <td>5000.0</td>\n",
       "      <td>0</td>\n",
       "    </tr>\n",
       "    <tr>\n",
       "      <th>3</th>\n",
       "      <td>4</td>\n",
       "      <td>50000.0</td>\n",
       "      <td>2</td>\n",
       "      <td>2</td>\n",
       "      <td>1</td>\n",
       "      <td>37</td>\n",
       "      <td>0</td>\n",
       "      <td>0</td>\n",
       "      <td>0</td>\n",
       "      <td>0</td>\n",
       "      <td>...</td>\n",
       "      <td>28314.0</td>\n",
       "      <td>28959.0</td>\n",
       "      <td>29547.0</td>\n",
       "      <td>2000.0</td>\n",
       "      <td>2019.0</td>\n",
       "      <td>1200.0</td>\n",
       "      <td>1100.0</td>\n",
       "      <td>1069.0</td>\n",
       "      <td>1000.0</td>\n",
       "      <td>0</td>\n",
       "    </tr>\n",
       "    <tr>\n",
       "      <th>4</th>\n",
       "      <td>5</td>\n",
       "      <td>50000.0</td>\n",
       "      <td>1</td>\n",
       "      <td>2</td>\n",
       "      <td>1</td>\n",
       "      <td>57</td>\n",
       "      <td>-1</td>\n",
       "      <td>0</td>\n",
       "      <td>-1</td>\n",
       "      <td>0</td>\n",
       "      <td>...</td>\n",
       "      <td>20940.0</td>\n",
       "      <td>19146.0</td>\n",
       "      <td>19131.0</td>\n",
       "      <td>2000.0</td>\n",
       "      <td>36681.0</td>\n",
       "      <td>10000.0</td>\n",
       "      <td>9000.0</td>\n",
       "      <td>689.0</td>\n",
       "      <td>679.0</td>\n",
       "      <td>0</td>\n",
       "    </tr>\n",
       "  </tbody>\n",
       "</table>\n",
       "<p>5 rows × 25 columns</p>\n",
       "</div>"
      ],
      "text/plain": [
       "   ID  LIMIT_BAL  SEX  EDUCATION  MARRIAGE  AGE  PAY_0  PAY_2  PAY_3  PAY_4  \\\n",
       "0   1    20000.0    2          2         1   24      2      2     -1     -1   \n",
       "1   2   120000.0    2          2         2   26     -1      2      0      0   \n",
       "2   3    90000.0    2          2         2   34      0      0      0      0   \n",
       "3   4    50000.0    2          2         1   37      0      0      0      0   \n",
       "4   5    50000.0    1          2         1   57     -1      0     -1      0   \n",
       "\n",
       "   ...  BILL_AMT4  BILL_AMT5  BILL_AMT6  PAY_AMT1  PAY_AMT2  PAY_AMT3  \\\n",
       "0  ...        0.0        0.0        0.0       0.0     689.0       0.0   \n",
       "1  ...     3272.0     3455.0     3261.0       0.0    1000.0    1000.0   \n",
       "2  ...    14331.0    14948.0    15549.0    1518.0    1500.0    1000.0   \n",
       "3  ...    28314.0    28959.0    29547.0    2000.0    2019.0    1200.0   \n",
       "4  ...    20940.0    19146.0    19131.0    2000.0   36681.0   10000.0   \n",
       "\n",
       "   PAY_AMT4  PAY_AMT5  PAY_AMT6  default.payment.next.month  \n",
       "0       0.0       0.0       0.0                           1  \n",
       "1    1000.0       0.0    2000.0                           1  \n",
       "2    1000.0    1000.0    5000.0                           0  \n",
       "3    1100.0    1069.0    1000.0                           0  \n",
       "4    9000.0     689.0     679.0                           0  \n",
       "\n",
       "[5 rows x 25 columns]"
      ]
     },
     "execution_count": 8,
     "metadata": {},
     "output_type": "execute_result"
    }
   ],
   "source": [
    "# check few lines\n",
    "data.head()"
   ]
  },
  {
   "cell_type": "code",
   "execution_count": 9,
   "id": "0f207659-4fb8-4c26-a6f0-8467e76b8564",
   "metadata": {},
   "outputs": [],
   "source": [
    "#use the word 'label'\n",
    "data['label']=data['default.payment.next.month']\n",
    "data=data.drop(columns=['default.payment.next.month'])"
   ]
  },
  {
   "cell_type": "code",
   "execution_count": 10,
   "id": "170536d9-5b40-4238-a58e-dd7dc49cf9f4",
   "metadata": {},
   "outputs": [
    {
     "name": "stdout",
     "output_type": "stream",
     "text": [
      "There are total 30000 records in our data.\n",
      "Is Fraud:\n",
      "Count: 6636\n",
      "Proportion (Fraud): 22.0%\n",
      "Not Fraud:\n",
      "Count: 23364\n",
      "Proportion (Not Fraud): 77.9%\n"
     ]
    },
    {
     "data": {
      "text/plain": [
       "'22.0'"
      ]
     },
     "execution_count": 10,
     "metadata": {},
     "output_type": "execute_result"
    },
    {
     "data": {
      "image/png": "[encoded data removed]",
      "text/plain": [
       "<Figure size 500x500 with 1 Axes>"
      ]
     },
     "metadata": {},
     "output_type": "display_data"
    }
   ],
   "source": [
    "#check the fraud proportion of the data\n",
    "target_info(data['label'])"
   ]
  },
  {
   "cell_type": "code",
   "execution_count": 11,
   "id": "c6a71401-0e7d-4e21-94f4-49aa04df88df",
   "metadata": {},
   "outputs": [],
   "source": [
    "# set an exclude list for the scorecard package Toad\n",
    "exclude_list = ['ID','label']"
   ]
  },
  {
   "cell_type": "code",
   "execution_count": 12,
   "id": "dcae999d-02da-49f3-96b6-831361081e6a",
   "metadata": {},
   "outputs": [
    {
     "data": {
      "text/plain": [
       "count    30000.000000\n",
       "mean     15000.500000\n",
       "std       8660.398374\n",
       "min          1.000000\n",
       "25%       7500.750000\n",
       "50%      15000.500000\n",
       "75%      22500.250000\n",
       "max      30000.000000\n",
       "Name: ID, dtype: float64"
      ]
     },
     "execution_count": 12,
     "metadata": {},
     "output_type": "execute_result"
    }
   ],
   "source": [
    "data.ID.describe()"
   ]
  },
  {
   "cell_type": "code",
   "execution_count": 13,
   "id": "a3ff121c-2d67-4f8e-99d1-0f3815718e10",
   "metadata": {},
   "outputs": [],
   "source": [
    "# use the ID column to split the train-test data\n",
    "train = data_split(data,start = 0, end=22500,date_col='ID')\n",
    "test = data_split(data,start = 22500, end=172792,date_col='ID')"
   ]
  },
  {
   "cell_type": "code",
   "execution_count": 14,
   "id": "390188fb-df3a-4b07-8788-cf4944b48ced",
   "metadata": {},
   "outputs": [
    {
     "data": {
      "text/plain": [
       "label\n",
       "0    17411\n",
       "1     5088\n",
       "Name: count, dtype: int64"
      ]
     },
     "execution_count": 14,
     "metadata": {},
     "output_type": "execute_result"
    }
   ],
   "source": [
    "train.label.value_counts()"
   ]
  },
  {
   "cell_type": "code",
   "execution_count": 15,
   "id": "f6b87931-9acb-4b94-bc17-e564e887562b",
   "metadata": {},
   "outputs": [
    {
     "data": {
      "text/plain": [
       "label\n",
       "0    5953\n",
       "1    1548\n",
       "Name: count, dtype: int64"
      ]
     },
     "execution_count": 15,
     "metadata": {},
     "output_type": "execute_result"
    }
   ],
   "source": [
    "test.label.value_counts()"
   ]
  },
  {
   "cell_type": "markdown",
   "id": "85d7c7ea-8f69-4289-95ca-8ce5b1dc3292",
   "metadata": {},
   "source": [
    "# 2. Feature Selection"
   ]
  },
  {
   "cell_type": "code",
   "execution_count": 16,
   "id": "e4604688-d121-41c5-82cd-0963ef77e011",
   "metadata": {},
   "outputs": [
    {
     "name": "stdout",
     "output_type": "stream",
     "text": [
      "keep: 23 drop empty: 0 drop iv: 2 drop corr: 0\n"
     ]
    }
   ],
   "source": [
    "###feature filtering by missing value, IV & corrrelation：\n",
    "##If the missing value rate is greater than the threshold, delete the feature\n",
    "##If the correlation coefficient is greater than the threshold, delete the feature\n",
    "##If the IV is smaller than the threshold, delete the features\n",
    "\n",
    "train_selected, drop_lst= toad.selection.select(frame = train,\n",
    "                                                target=train['label'], \n",
    "                                                empty = 0.7, \n",
    "                                                iv = 0.02, corr = 1, \n",
    "                                                return_drop=True, \n",
    "                                                exclude=exclude_list)\n",
    "print(\"keep:\",train_selected.shape[1],\n",
    "      \"drop empty:\",len(drop_lst['empty']),\n",
    "      \"drop iv:\",len(drop_lst['iv']),\n",
    "      \"drop corr:\",len(drop_lst['corr']))"
   ]
  },
  {
   "cell_type": "code",
   "execution_count": 17,
   "id": "fc21d277-a217-42ae-bf15-49bd1c4d96a7",
   "metadata": {},
   "outputs": [
    {
     "data": {
      "text/plain": [
       "{'empty': array([], dtype=float64),\n",
       " 'iv': array(['SEX', 'MARRIAGE'], dtype=object),\n",
       " 'corr': array([], dtype=object)}"
      ]
     },
     "execution_count": 17,
     "metadata": {},
     "output_type": "execute_result"
    }
   ],
   "source": [
    "drop_lst"
   ]
  },
  {
   "cell_type": "code",
   "execution_count": 19,
   "id": "19d39cf2-bf67-4e80-8868-98cc0eff6df6",
   "metadata": {},
   "outputs": [],
   "source": [
    "# output the iv table to a dataframe\n",
    "def output_iv_importance(train_selected,label_col):\n",
    "    feat_import_iv = toad.quality(train_selected,label_col,iv_only=True)\n",
    "    feat_import_iv=feat_import_iv['iv']\n",
    "    feat_import_iv = feat_import_iv.reset_index()\n",
    "    feat_import_iv.columns = ['name','iv']\n",
    "    return feat_import_iv\n",
    "df_iv=output_iv_importance(train_selected,'label')"
   ]
  },
  {
   "cell_type": "code",
   "execution_count": 20,
   "id": "a6920647-b03a-4307-9f46-716a775a6751",
   "metadata": {},
   "outputs": [
    {
     "data": {
      "text/plain": [
       "(22, 2)"
      ]
     },
     "execution_count": 20,
     "metadata": {},
     "output_type": "execute_result"
    }
   ],
   "source": [
    "df_iv.shape"
   ]
  },
  {
   "cell_type": "code",
   "execution_count": 21,
   "id": "ad6295f3-73ee-48bd-afc9-60957b06de37",
   "metadata": {},
   "outputs": [
    {
     "data": {
      "text/html": [
       "<div>\n",
       "<style scoped>\n",
       "    .dataframe tbody tr th:only-of-type {\n",
       "        vertical-align: middle;\n",
       "    }\n",
       "\n",
       "    .dataframe tbody tr th {\n",
       "        vertical-align: top;\n",
       "    }\n",
       "\n",
       "    .dataframe thead th {\n",
       "        text-align: right;\n",
       "    }\n",
       "</style>\n",
       "<table border=\"1\" class=\"dataframe\">\n",
       "  <thead>\n",
       "    <tr style=\"text-align: right;\">\n",
       "      <th></th>\n",
       "      <th>name</th>\n",
       "      <th>iv</th>\n",
       "    </tr>\n",
       "  </thead>\n",
       "  <tbody>\n",
       "    <tr>\n",
       "      <th>0</th>\n",
       "      <td>PAY_0</td>\n",
       "      <td>0.864707</td>\n",
       "    </tr>\n",
       "    <tr>\n",
       "      <th>1</th>\n",
       "      <td>PAY_2</td>\n",
       "      <td>0.536068</td>\n",
       "    </tr>\n",
       "    <tr>\n",
       "      <th>2</th>\n",
       "      <td>PAY_3</td>\n",
       "      <td>0.401513</td>\n",
       "    </tr>\n",
       "    <tr>\n",
       "      <th>3</th>\n",
       "      <td>PAY_4</td>\n",
       "      <td>0.349813</td>\n",
       "    </tr>\n",
       "    <tr>\n",
       "      <th>4</th>\n",
       "      <td>PAY_5</td>\n",
       "      <td>0.340014</td>\n",
       "    </tr>\n",
       "    <tr>\n",
       "      <th>5</th>\n",
       "      <td>PAY_6</td>\n",
       "      <td>0.282692</td>\n",
       "    </tr>\n",
       "    <tr>\n",
       "      <th>6</th>\n",
       "      <td>PAY_AMT1</td>\n",
       "      <td>0.189334</td>\n",
       "    </tr>\n",
       "    <tr>\n",
       "      <th>7</th>\n",
       "      <td>LIMIT_BAL</td>\n",
       "      <td>0.170973</td>\n",
       "    </tr>\n",
       "    <tr>\n",
       "      <th>8</th>\n",
       "      <td>PAY_AMT2</td>\n",
       "      <td>0.168256</td>\n",
       "    </tr>\n",
       "    <tr>\n",
       "      <th>9</th>\n",
       "      <td>PAY_AMT3</td>\n",
       "      <td>0.128827</td>\n",
       "    </tr>\n",
       "    <tr>\n",
       "      <th>10</th>\n",
       "      <td>PAY_AMT4</td>\n",
       "      <td>0.121719</td>\n",
       "    </tr>\n",
       "    <tr>\n",
       "      <th>11</th>\n",
       "      <td>PAY_AMT6</td>\n",
       "      <td>0.106017</td>\n",
       "    </tr>\n",
       "    <tr>\n",
       "      <th>12</th>\n",
       "      <td>PAY_AMT5</td>\n",
       "      <td>0.103353</td>\n",
       "    </tr>\n",
       "    <tr>\n",
       "      <th>13</th>\n",
       "      <td>BILL_AMT4</td>\n",
       "      <td>0.047998</td>\n",
       "    </tr>\n",
       "    <tr>\n",
       "      <th>14</th>\n",
       "      <td>BILL_AMT5</td>\n",
       "      <td>0.046490</td>\n",
       "    </tr>\n",
       "    <tr>\n",
       "      <th>15</th>\n",
       "      <td>BILL_AMT3</td>\n",
       "      <td>0.044047</td>\n",
       "    </tr>\n",
       "    <tr>\n",
       "      <th>16</th>\n",
       "      <td>EDUCATION</td>\n",
       "      <td>0.036458</td>\n",
       "    </tr>\n",
       "    <tr>\n",
       "      <th>17</th>\n",
       "      <td>ID</td>\n",
       "      <td>0.032184</td>\n",
       "    </tr>\n",
       "    <tr>\n",
       "      <th>18</th>\n",
       "      <td>AGE</td>\n",
       "      <td>0.027512</td>\n",
       "    </tr>\n",
       "    <tr>\n",
       "      <th>19</th>\n",
       "      <td>BILL_AMT6</td>\n",
       "      <td>0.027461</td>\n",
       "    </tr>\n",
       "    <tr>\n",
       "      <th>20</th>\n",
       "      <td>BILL_AMT1</td>\n",
       "      <td>0.026191</td>\n",
       "    </tr>\n",
       "    <tr>\n",
       "      <th>21</th>\n",
       "      <td>BILL_AMT2</td>\n",
       "      <td>0.022539</td>\n",
       "    </tr>\n",
       "  </tbody>\n",
       "</table>\n",
       "</div>"
      ],
      "text/plain": [
       "         name        iv\n",
       "0       PAY_0  0.864707\n",
       "1       PAY_2  0.536068\n",
       "2       PAY_3  0.401513\n",
       "3       PAY_4  0.349813\n",
       "4       PAY_5  0.340014\n",
       "5       PAY_6  0.282692\n",
       "6    PAY_AMT1  0.189334\n",
       "7   LIMIT_BAL  0.170973\n",
       "8    PAY_AMT2  0.168256\n",
       "9    PAY_AMT3  0.128827\n",
       "10   PAY_AMT4  0.121719\n",
       "11   PAY_AMT6  0.106017\n",
       "12   PAY_AMT5  0.103353\n",
       "13  BILL_AMT4  0.047998\n",
       "14  BILL_AMT5  0.046490\n",
       "15  BILL_AMT3  0.044047\n",
       "16  EDUCATION  0.036458\n",
       "17         ID  0.032184\n",
       "18        AGE  0.027512\n",
       "19  BILL_AMT6  0.027461\n",
       "20  BILL_AMT1  0.026191\n",
       "21  BILL_AMT2  0.022539"
      ]
     },
     "execution_count": 21,
     "metadata": {},
     "output_type": "execute_result"
    }
   ],
   "source": [
    "df_iv.head(30)"
   ]
  },
  {
   "cell_type": "markdown",
   "id": "2e3a1f76-bbae-4dc4-a257-9a5b817e158b",
   "metadata": {},
   "source": [
    "# Feature Binning\n",
    "\n",
    "Feature binning is to transform a continuous or numerical variable into a categorical feature.\r\n",
    "\r\n",
    "It simplifies the logistic regression model and reduces the risk of model overfitting\r\n",
    "Logistic regression is a generalized linear model, and its expressive ability is limited; Feature binning can introduce nonlinearity into the model, which can improve the expressive ability of the model and help better model fitting\r\n",
    "The discretized features are very robust to abnormal data: for example, a feature is 1 if age > 30, and 0 otherwise. If the features are not discretized, an abnormal data point \"300 years old\" will impact the model fitting\r\n",
    "It can treat null data as an individual class"
   ]
  },
  {
   "cell_type": "code",
   "execution_count": 22,
   "id": "4b2b53c6-bc71-4841-85b2-3b6cffb69fca",
   "metadata": {},
   "outputs": [
    {
     "data": {
      "text/plain": [
       "label\n",
       "0    17411\n",
       "1     5088\n",
       "Name: count, dtype: int64"
      ]
     },
     "execution_count": 22,
     "metadata": {},
     "output_type": "execute_result"
    }
   ],
   "source": [
    "train_selected.label.value_counts()"
   ]
  },
  {
   "cell_type": "code",
   "execution_count": 23,
   "id": "d32571d6-aa10-4d85-b95d-468d26928071",
   "metadata": {},
   "outputs": [
    {
     "data": {
      "text/plain": [
       "(22499, 23)"
      ]
     },
     "execution_count": 23,
     "metadata": {},
     "output_type": "execute_result"
    }
   ],
   "source": [
    "train_selected.shape"
   ]
  },
  {
   "cell_type": "markdown",
   "id": "bbc62037-570e-455b-9a09-a15d0bfa419c",
   "metadata": {},
   "source": [
    "### Steps for feature binning:\n",
    "#### Step 1. Initialization: c = toad.transform.Combiner() \n",
    "#### Step 2. Training binning: \n",
    "c.fit(dataframe, \n",
    "      y = 'target', \n",
    "      method = 'chi', \n",
    "      min_samples = 0.05, \n",
    "      n_bins = None, \n",
    "      empty_separate = False)\n",
    "* y: target column\n",
    "* method: binning method, supports chi (chi-square binning), dt (decision tree binning), kmean, quantile, step (equal step size binning)\n",
    "* min_samples: Each box contains the least number of samples, which can be a number or a proportion \n",
    "* n_bins: the number of bins; If it is not possible to divide so many boxes the maximum number of bins will be divided.\n",
    "* empty_separate: Whether to separate empty boxes separately \n",
    "\n",
    "#### Step 3. check binning nodes: c.export() \n",
    "#### Step 4. Manually adjust binning: c.load(dict) \n",
    "#### Step 5. Apply binning results: c.transform(dataframe, labels=False)\n",
    "* labels: Whether to convert the binning results into box labels. If False, output 0, 1, 2… (discrete variables are sorted according to the proportion), and if True output (-inf, 0], (0,10], (10, inf).], (10, inf)."
   ]
  },
  {
   "cell_type": "code",
   "execution_count": 24,
   "id": "cb712522-92a0-4d22-a3f4-8f329bbaf413",
   "metadata": {},
   "outputs": [
    {
     "name": "stdout",
     "output_type": "stream",
     "text": [
      "0.7055565118789673\n"
     ]
    }
   ],
   "source": [
    "import time\n",
    "start = time.time()\n",
    "combiner = toad.transform.Combiner()\n",
    "# use the filtered features for training\n",
    "# Use the stable chi-square binning, \n",
    "# specifying that each bin has at least 5% data to ensure stability\n",
    "# empty values will be automatically assigned to the best bin\n",
    "combiner.fit(X=train_selected,\n",
    "             y=train_selected['label'],\n",
    "             method='chi',\n",
    "             min_samples = 0.05,\n",
    "             exclude=exclude_list)\n",
    "end = time.time()\n",
    "print((end-start)/60)"
   ]
  },
  {
   "cell_type": "code",
   "execution_count": 25,
   "id": "1f21e523-b62d-4974-bb1e-c877f8147cf5",
   "metadata": {},
   "outputs": [
    {
     "data": {
      "text/plain": [
       "<toad.transform.Combiner at 0x24d327d0350>"
      ]
     },
     "execution_count": 25,
     "metadata": {},
     "output_type": "execute_result"
    }
   ],
   "source": [
    "combiner"
   ]
  },
  {
   "cell_type": "code",
   "execution_count": 27,
   "id": "c02094bf-fdd1-4ee6-b3a3-83f960429681",
   "metadata": {},
   "outputs": [],
   "source": [
    "# save 1: pickle combiner\n",
    "filename = 'CreditScore_save1_combiner.pkl'\n",
    "pickle.dump(combiner, open(filename, 'wb'))"
   ]
  },
  {
   "cell_type": "code",
   "execution_count": 28,
   "id": "1fd2054e-3d2b-4cda-bc95-d61aaca7fc13",
   "metadata": {},
   "outputs": [
    {
     "data": {
      "text/plain": [
       "'CreditScore_save1_combiner.pkl'"
      ]
     },
     "execution_count": 28,
     "metadata": {},
     "output_type": "execute_result"
    }
   ],
   "source": [
    "filename"
   ]
  },
  {
   "cell_type": "code",
   "execution_count": 29,
   "id": "3f494790-5c54-4e44-b237-83c7d2d06013",
   "metadata": {},
   "outputs": [],
   "source": [
    "# load the model from disk\n",
    "#combiner = pickle.load(open(filename, 'rb'))"
   ]
  },
  {
   "cell_type": "code",
   "execution_count": 30,
   "id": "47123f75-8495-46ee-92de-2893806f3051",
   "metadata": {},
   "outputs": [],
   "source": [
    "#output binning\n",
    "bins = combiner.export()"
   ]
  },
  {
   "cell_type": "code",
   "execution_count": 31,
   "id": "e1ddb198-bdcd-4be7-b183-1c3ef90ef2d9",
   "metadata": {},
   "outputs": [
    {
     "data": {
      "text/plain": [
       "21"
      ]
     },
     "execution_count": 31,
     "metadata": {},
     "output_type": "execute_result"
    }
   ],
   "source": [
    "len(bins)"
   ]
  },
  {
   "cell_type": "code",
   "execution_count": 32,
   "id": "48172779-b5a2-4e26-9b5f-abf0d74bee81",
   "metadata": {},
   "outputs": [
    {
     "data": {
      "text/plain": [
       "{'LIMIT_BAL': [50000.0,\n",
       "  60000.0,\n",
       "  80000.0,\n",
       "  110000.0,\n",
       "  150000.0,\n",
       "  230000.0,\n",
       "  370000.0],\n",
       " 'EDUCATION': [2],\n",
       " 'AGE': [26, 29, 34, 46],\n",
       " 'PAY_0': [-1, 0, 1, 2],\n",
       " 'PAY_2': [-1, 2],\n",
       " 'PAY_3': [-1, 0, 2],\n",
       " 'PAY_4': [-1, 0, 1],\n",
       " 'PAY_5': [-1, 0, 2],\n",
       " 'PAY_6': [-1, 0, 2],\n",
       " 'BILL_AMT1': [2501.0],\n",
       " 'BILL_AMT2': [2400.0, 8287.0, 35213.0],\n",
       " 'BILL_AMT3': [2400.0, 7458.0, 81890.0],\n",
       " 'BILL_AMT4': [2501.0],\n",
       " 'BILL_AMT5': [2395.0, 8110.0, 35288.0],\n",
       " 'BILL_AMT6': [19195.0, 50442.0],\n",
       " 'PAY_AMT1': [6.0, 4902.0],\n",
       " 'PAY_AMT2': [92.0, 1603.0, 4520.0, 15002.0],\n",
       " 'PAY_AMT3': [1.0, 2921.0],\n",
       " 'PAY_AMT4': [1.0, 1506.0, 3946.0],\n",
       " 'PAY_AMT5': [1.0, 1880.0, 10000.0],\n",
       " 'PAY_AMT6': [28.0, 480.0, 926.0, 1078.0, 1501.0, 4060.0, 9567.0]}"
      ]
     },
     "execution_count": 32,
     "metadata": {},
     "output_type": "execute_result"
    }
   ],
   "source": [
    "bins"
   ]
  },
  {
   "cell_type": "code",
   "execution_count": 33,
   "id": "ec21cf68-187e-45bb-858a-1a6e80fe3d1e",
   "metadata": {},
   "outputs": [],
   "source": [
    "#apply binning\n",
    "train_selected_bin = combiner.transform(train_selected)\n",
    "test_bin = combiner.transform(test[train_selected_bin.columns])"
   ]
  },
  {
   "cell_type": "code",
   "execution_count": 34,
   "id": "2a83a0a5-652b-439e-921d-5d5eea7a34b6",
   "metadata": {},
   "outputs": [
    {
     "data": {
      "text/html": [
       "<div>\n",
       "<style scoped>\n",
       "    .dataframe tbody tr th:only-of-type {\n",
       "        vertical-align: middle;\n",
       "    }\n",
       "\n",
       "    .dataframe tbody tr th {\n",
       "        vertical-align: top;\n",
       "    }\n",
       "\n",
       "    .dataframe thead th {\n",
       "        text-align: right;\n",
       "    }\n",
       "</style>\n",
       "<table border=\"1\" class=\"dataframe\">\n",
       "  <thead>\n",
       "    <tr style=\"text-align: right;\">\n",
       "      <th></th>\n",
       "      <th>ID</th>\n",
       "      <th>LIMIT_BAL</th>\n",
       "      <th>EDUCATION</th>\n",
       "      <th>AGE</th>\n",
       "      <th>PAY_0</th>\n",
       "      <th>PAY_2</th>\n",
       "      <th>PAY_3</th>\n",
       "      <th>PAY_4</th>\n",
       "      <th>PAY_5</th>\n",
       "      <th>PAY_6</th>\n",
       "      <th>...</th>\n",
       "      <th>BILL_AMT4</th>\n",
       "      <th>BILL_AMT5</th>\n",
       "      <th>BILL_AMT6</th>\n",
       "      <th>PAY_AMT1</th>\n",
       "      <th>PAY_AMT2</th>\n",
       "      <th>PAY_AMT3</th>\n",
       "      <th>PAY_AMT4</th>\n",
       "      <th>PAY_AMT5</th>\n",
       "      <th>PAY_AMT6</th>\n",
       "      <th>label</th>\n",
       "    </tr>\n",
       "  </thead>\n",
       "  <tbody>\n",
       "    <tr>\n",
       "      <th>0</th>\n",
       "      <td>1</td>\n",
       "      <td>0</td>\n",
       "      <td>1</td>\n",
       "      <td>0</td>\n",
       "      <td>4</td>\n",
       "      <td>2</td>\n",
       "      <td>1</td>\n",
       "      <td>1</td>\n",
       "      <td>0</td>\n",
       "      <td>0</td>\n",
       "      <td>...</td>\n",
       "      <td>0</td>\n",
       "      <td>0</td>\n",
       "      <td>0</td>\n",
       "      <td>0</td>\n",
       "      <td>1</td>\n",
       "      <td>0</td>\n",
       "      <td>0</td>\n",
       "      <td>0</td>\n",
       "      <td>0</td>\n",
       "      <td>1</td>\n",
       "    </tr>\n",
       "    <tr>\n",
       "      <th>1</th>\n",
       "      <td>2</td>\n",
       "      <td>4</td>\n",
       "      <td>1</td>\n",
       "      <td>1</td>\n",
       "      <td>1</td>\n",
       "      <td>2</td>\n",
       "      <td>2</td>\n",
       "      <td>2</td>\n",
       "      <td>2</td>\n",
       "      <td>3</td>\n",
       "      <td>...</td>\n",
       "      <td>1</td>\n",
       "      <td>1</td>\n",
       "      <td>0</td>\n",
       "      <td>0</td>\n",
       "      <td>1</td>\n",
       "      <td>1</td>\n",
       "      <td>1</td>\n",
       "      <td>0</td>\n",
       "      <td>5</td>\n",
       "      <td>1</td>\n",
       "    </tr>\n",
       "    <tr>\n",
       "      <th>2</th>\n",
       "      <td>3</td>\n",
       "      <td>3</td>\n",
       "      <td>1</td>\n",
       "      <td>3</td>\n",
       "      <td>2</td>\n",
       "      <td>1</td>\n",
       "      <td>2</td>\n",
       "      <td>2</td>\n",
       "      <td>2</td>\n",
       "      <td>2</td>\n",
       "      <td>...</td>\n",
       "      <td>1</td>\n",
       "      <td>2</td>\n",
       "      <td>0</td>\n",
       "      <td>1</td>\n",
       "      <td>1</td>\n",
       "      <td>1</td>\n",
       "      <td>1</td>\n",
       "      <td>1</td>\n",
       "      <td>6</td>\n",
       "      <td>0</td>\n",
       "    </tr>\n",
       "    <tr>\n",
       "      <th>3</th>\n",
       "      <td>4</td>\n",
       "      <td>1</td>\n",
       "      <td>1</td>\n",
       "      <td>3</td>\n",
       "      <td>2</td>\n",
       "      <td>1</td>\n",
       "      <td>2</td>\n",
       "      <td>2</td>\n",
       "      <td>2</td>\n",
       "      <td>2</td>\n",
       "      <td>...</td>\n",
       "      <td>1</td>\n",
       "      <td>2</td>\n",
       "      <td>1</td>\n",
       "      <td>1</td>\n",
       "      <td>2</td>\n",
       "      <td>1</td>\n",
       "      <td>1</td>\n",
       "      <td>1</td>\n",
       "      <td>3</td>\n",
       "      <td>0</td>\n",
       "    </tr>\n",
       "    <tr>\n",
       "      <th>4</th>\n",
       "      <td>5</td>\n",
       "      <td>1</td>\n",
       "      <td>1</td>\n",
       "      <td>4</td>\n",
       "      <td>1</td>\n",
       "      <td>1</td>\n",
       "      <td>1</td>\n",
       "      <td>2</td>\n",
       "      <td>2</td>\n",
       "      <td>2</td>\n",
       "      <td>...</td>\n",
       "      <td>1</td>\n",
       "      <td>2</td>\n",
       "      <td>0</td>\n",
       "      <td>1</td>\n",
       "      <td>4</td>\n",
       "      <td>2</td>\n",
       "      <td>3</td>\n",
       "      <td>1</td>\n",
       "      <td>2</td>\n",
       "      <td>0</td>\n",
       "    </tr>\n",
       "  </tbody>\n",
       "</table>\n",
       "<p>5 rows × 23 columns</p>\n",
       "</div>"
      ],
      "text/plain": [
       "   ID  LIMIT_BAL  EDUCATION  AGE  PAY_0  PAY_2  PAY_3  PAY_4  PAY_5  PAY_6  \\\n",
       "0   1          0          1    0      4      2      1      1      0      0   \n",
       "1   2          4          1    1      1      2      2      2      2      3   \n",
       "2   3          3          1    3      2      1      2      2      2      2   \n",
       "3   4          1          1    3      2      1      2      2      2      2   \n",
       "4   5          1          1    4      1      1      1      2      2      2   \n",
       "\n",
       "   ...  BILL_AMT4  BILL_AMT5  BILL_AMT6  PAY_AMT1  PAY_AMT2  PAY_AMT3  \\\n",
       "0  ...          0          0          0         0         1         0   \n",
       "1  ...          1          1          0         0         1         1   \n",
       "2  ...          1          2          0         1         1         1   \n",
       "3  ...          1          2          1         1         2         1   \n",
       "4  ...          1          2          0         1         4         2   \n",
       "\n",
       "   PAY_AMT4  PAY_AMT5  PAY_AMT6  label  \n",
       "0         0         0         0      1  \n",
       "1         1         0         5      1  \n",
       "2         1         1         6      0  \n",
       "3         1         1         3      0  \n",
       "4         3         1         2      0  \n",
       "\n",
       "[5 rows x 23 columns]"
      ]
     },
     "execution_count": 34,
     "metadata": {},
     "output_type": "execute_result"
    }
   ],
   "source": [
    "train_selected_bin.head()"
   ]
  },
  {
   "cell_type": "code",
   "execution_count": 35,
   "id": "7da748b4-8159-4494-953d-bc3d1bb01d5c",
   "metadata": {},
   "outputs": [
    {
     "data": {
      "text/plain": [
       "21"
      ]
     },
     "execution_count": 35,
     "metadata": {},
     "output_type": "execute_result"
    }
   ],
   "source": [
    "features_list = [feat for feat in train_selected_bin.columns if feat not in exclude_list]\n",
    "len(features_list)"
   ]
  },
  {
   "cell_type": "code",
   "execution_count": 36,
   "id": "33e8fd0a-deaf-4e35-9ef1-983ce275e22f",
   "metadata": {},
   "outputs": [
    {
     "name": "stderr",
     "output_type": "stream",
     "text": [
      "C:\\Users\\andre\\anaconda3\\Lib\\site-packages\\seaborn\\_oldcore.py:1119: FutureWarning: use_inf_as_na option is deprecated and will be removed in a future version. Convert inf values to NaN before operating instead.\n",
      "  with pd.option_context('mode.use_inf_as_na', True):\n",
      "C:\\Users\\andre\\anaconda3\\Lib\\site-packages\\seaborn\\_oldcore.py:1119: FutureWarning: use_inf_as_na option is deprecated and will be removed in a future version. Convert inf values to NaN before operating instead.\n",
      "  with pd.option_context('mode.use_inf_as_na', True):\n",
      "C:\\Users\\andre\\anaconda3\\Lib\\site-packages\\seaborn\\_oldcore.py:1119: FutureWarning: use_inf_as_na option is deprecated and will be removed in a future version. Convert inf values to NaN before operating instead.\n",
      "  with pd.option_context('mode.use_inf_as_na', True):\n",
      "C:\\Users\\andre\\anaconda3\\Lib\\site-packages\\seaborn\\_oldcore.py:1119: FutureWarning: use_inf_as_na option is deprecated and will be removed in a future version. Convert inf values to NaN before operating instead.\n",
      "  with pd.option_context('mode.use_inf_as_na', True):\n"
     ]
    },
    {
     "data": {
      "text/plain": [
       "<Axes: xlabel='PAY_AMT1', ylabel='prop'>"
      ]
     },
     "execution_count": 36,
     "metadata": {},
     "output_type": "execute_result"
    },
    {
     "data": {
      "image/png": "[encoded data removed]",
      "text/plain": [
       "<Figure size 1200x600 with 2 Axes>"
      ]
     },
     "metadata": {},
     "output_type": "display_data"
    },
    {
     "data": {
      "image/png": "[encoded data removed]",
      "text/plain": [
       "<Figure size 1200x600 with 2 Axes>"
      ]
     },
     "metadata": {},
     "output_type": "display_data"
    }
   ],
   "source": [
    "#Fine tune bins\n",
    "from toad.plot import  bin_plot,badrate_plot\n",
    "bin_plot(train_selected_bin,x='PAY_AMT1',target='label')\n",
    "bin_plot(test_bin,x='PAY_AMT1',target='label')"
   ]
  },
  {
   "cell_type": "code",
   "execution_count": 37,
   "id": "726de5ac-509f-4e42-8f81-a4ffe915de67",
   "metadata": {},
   "outputs": [],
   "source": [
    "#setting rules\n",
    "#rule = {'PAY_AMT1':[['0', 'nan'],['1'], ['2'], ['3']]}\n",
    "\n",
    "#Adjust binning\n",
    "#c.set_rules(rule)"
   ]
  },
  {
   "cell_type": "code",
   "execution_count": 38,
   "id": "736134ed-5321-4f98-9506-5adfce1433d3",
   "metadata": {},
   "outputs": [
    {
     "data": {
      "text/plain": [
       "count    22499.000000\n",
       "mean         1.988711\n",
       "std          1.038531\n",
       "min          0.000000\n",
       "25%          1.000000\n",
       "50%          2.000000\n",
       "75%          2.000000\n",
       "max          4.000000\n",
       "Name: PAY_0, dtype: float64"
      ]
     },
     "execution_count": 38,
     "metadata": {},
     "output_type": "execute_result"
    }
   ],
   "source": [
    "train_selected_bin.PAY_0.describe()"
   ]
  },
  {
   "cell_type": "markdown",
   "id": "c34fc3ad-ec81-427d-ba66-4d060c3c2e38",
   "metadata": {},
   "source": [
    "# 4. Transform to WOE"
   ]
  },
  {
   "cell_type": "code",
   "execution_count": 39,
   "id": "b07b34ef-7b16-4b93-8fb8-211488edd5e3",
   "metadata": {},
   "outputs": [],
   "source": [
    "##转化成WOE映射\n",
    "t=toad.transform.WOETransformer()\n",
    "#transform training set\n",
    "train_woe = t.fit_transform(X=train_selected_bin,\n",
    "                            y=train_selected_bin['label'], \n",
    "                            exclude=exclude_list)\n",
    "#transform testing set\n",
    "test_woe = t.transform(test_bin)"
   ]
  },
  {
   "cell_type": "code",
   "execution_count": 40,
   "id": "973523c6-4464-4c46-8ddf-360e83698a16",
   "metadata": {},
   "outputs": [
    {
     "data": {
      "text/html": [
       "<div>\n",
       "<style scoped>\n",
       "    .dataframe tbody tr th:only-of-type {\n",
       "        vertical-align: middle;\n",
       "    }\n",
       "\n",
       "    .dataframe tbody tr th {\n",
       "        vertical-align: top;\n",
       "    }\n",
       "\n",
       "    .dataframe thead th {\n",
       "        text-align: right;\n",
       "    }\n",
       "</style>\n",
       "<table border=\"1\" class=\"dataframe\">\n",
       "  <thead>\n",
       "    <tr style=\"text-align: right;\">\n",
       "      <th></th>\n",
       "      <th>ID</th>\n",
       "      <th>LIMIT_BAL</th>\n",
       "      <th>EDUCATION</th>\n",
       "      <th>AGE</th>\n",
       "      <th>PAY_0</th>\n",
       "      <th>PAY_2</th>\n",
       "      <th>PAY_3</th>\n",
       "      <th>PAY_4</th>\n",
       "      <th>PAY_5</th>\n",
       "      <th>PAY_6</th>\n",
       "      <th>...</th>\n",
       "      <th>BILL_AMT4</th>\n",
       "      <th>BILL_AMT5</th>\n",
       "      <th>BILL_AMT6</th>\n",
       "      <th>PAY_AMT1</th>\n",
       "      <th>PAY_AMT2</th>\n",
       "      <th>PAY_AMT3</th>\n",
       "      <th>PAY_AMT4</th>\n",
       "      <th>PAY_AMT5</th>\n",
       "      <th>PAY_AMT6</th>\n",
       "      <th>label</th>\n",
       "    </tr>\n",
       "  </thead>\n",
       "  <tbody>\n",
       "    <tr>\n",
       "      <th>0</th>\n",
       "      <td>1</td>\n",
       "      <td>0.666522</td>\n",
       "      <td>0.089338</td>\n",
       "      <td>0.260065</td>\n",
       "      <td>2.019269</td>\n",
       "      <td>1.459809</td>\n",
       "      <td>-0.417749</td>\n",
       "      <td>-0.383479</td>\n",
       "      <td>-0.146325</td>\n",
       "      <td>-0.117947</td>\n",
       "      <td>...</td>\n",
       "      <td>0.028510</td>\n",
       "      <td>-0.006521</td>\n",
       "      <td>-0.034304</td>\n",
       "      <td>0.662394</td>\n",
       "      <td>0.124160</td>\n",
       "      <td>0.488183</td>\n",
       "      <td>0.454327</td>\n",
       "      <td>0.370272</td>\n",
       "      <td>0.343887</td>\n",
       "      <td>1</td>\n",
       "    </tr>\n",
       "    <tr>\n",
       "      <th>1</th>\n",
       "      <td>2</td>\n",
       "      <td>-0.034630</td>\n",
       "      <td>0.089338</td>\n",
       "      <td>-0.100163</td>\n",
       "      <td>-0.308169</td>\n",
       "      <td>1.459809</td>\n",
       "      <td>-0.296556</td>\n",
       "      <td>-0.230510</td>\n",
       "      <td>-0.203587</td>\n",
       "      <td>1.282840</td>\n",
       "      <td>...</td>\n",
       "      <td>-0.009858</td>\n",
       "      <td>-0.239312</td>\n",
       "      <td>-0.034304</td>\n",
       "      <td>0.662394</td>\n",
       "      <td>0.124160</td>\n",
       "      <td>0.016060</td>\n",
       "      <td>0.056501</td>\n",
       "      <td>0.370272</td>\n",
       "      <td>-0.082401</td>\n",
       "      <td>1</td>\n",
       "    </tr>\n",
       "    <tr>\n",
       "      <th>2</th>\n",
       "      <td>3</td>\n",
       "      <td>0.108342</td>\n",
       "      <td>0.089338</td>\n",
       "      <td>-0.028816</td>\n",
       "      <td>-0.677822</td>\n",
       "      <td>-0.408118</td>\n",
       "      <td>-0.296556</td>\n",
       "      <td>-0.230510</td>\n",
       "      <td>-0.203587</td>\n",
       "      <td>-0.201216</td>\n",
       "      <td>...</td>\n",
       "      <td>-0.009858</td>\n",
       "      <td>0.140562</td>\n",
       "      <td>-0.034304</td>\n",
       "      <td>-0.009085</td>\n",
       "      <td>0.124160</td>\n",
       "      <td>0.016060</td>\n",
       "      <td>0.056501</td>\n",
       "      <td>0.084926</td>\n",
       "      <td>-0.391360</td>\n",
       "      <td>0</td>\n",
       "    </tr>\n",
       "    <tr>\n",
       "      <th>3</th>\n",
       "      <td>4</td>\n",
       "      <td>0.200392</td>\n",
       "      <td>0.089338</td>\n",
       "      <td>-0.028816</td>\n",
       "      <td>-0.677822</td>\n",
       "      <td>-0.408118</td>\n",
       "      <td>-0.296556</td>\n",
       "      <td>-0.230510</td>\n",
       "      <td>-0.203587</td>\n",
       "      <td>-0.201216</td>\n",
       "      <td>...</td>\n",
       "      <td>-0.009858</td>\n",
       "      <td>0.140562</td>\n",
       "      <td>0.162615</td>\n",
       "      <td>-0.009085</td>\n",
       "      <td>-0.076846</td>\n",
       "      <td>0.016060</td>\n",
       "      <td>0.056501</td>\n",
       "      <td>0.084926</td>\n",
       "      <td>-0.119586</td>\n",
       "      <td>0</td>\n",
       "    </tr>\n",
       "    <tr>\n",
       "      <th>4</th>\n",
       "      <td>5</td>\n",
       "      <td>0.200392</td>\n",
       "      <td>0.089338</td>\n",
       "      <td>0.156679</td>\n",
       "      <td>-0.308169</td>\n",
       "      <td>-0.408118</td>\n",
       "      <td>-0.417749</td>\n",
       "      <td>-0.230510</td>\n",
       "      <td>-0.203587</td>\n",
       "      <td>-0.201216</td>\n",
       "      <td>...</td>\n",
       "      <td>-0.009858</td>\n",
       "      <td>0.140562</td>\n",
       "      <td>-0.034304</td>\n",
       "      <td>-0.009085</td>\n",
       "      <td>-1.078550</td>\n",
       "      <td>-0.372758</td>\n",
       "      <td>-0.457199</td>\n",
       "      <td>0.084926</td>\n",
       "      <td>0.257636</td>\n",
       "      <td>0</td>\n",
       "    </tr>\n",
       "  </tbody>\n",
       "</table>\n",
       "<p>5 rows × 23 columns</p>\n",
       "</div>"
      ],
      "text/plain": [
       "   ID  LIMIT_BAL  EDUCATION       AGE     PAY_0     PAY_2     PAY_3     PAY_4  \\\n",
       "0   1   0.666522   0.089338  0.260065  2.019269  1.459809 -0.417749 -0.383479   \n",
       "1   2  -0.034630   0.089338 -0.100163 -0.308169  1.459809 -0.296556 -0.230510   \n",
       "2   3   0.108342   0.089338 -0.028816 -0.677822 -0.408118 -0.296556 -0.230510   \n",
       "3   4   0.200392   0.089338 -0.028816 -0.677822 -0.408118 -0.296556 -0.230510   \n",
       "4   5   0.200392   0.089338  0.156679 -0.308169 -0.408118 -0.417749 -0.230510   \n",
       "\n",
       "      PAY_5     PAY_6  ...  BILL_AMT4  BILL_AMT5  BILL_AMT6  PAY_AMT1  \\\n",
       "0 -0.146325 -0.117947  ...   0.028510  -0.006521  -0.034304  0.662394   \n",
       "1 -0.203587  1.282840  ...  -0.009858  -0.239312  -0.034304  0.662394   \n",
       "2 -0.203587 -0.201216  ...  -0.009858   0.140562  -0.034304 -0.009085   \n",
       "3 -0.203587 -0.201216  ...  -0.009858   0.140562   0.162615 -0.009085   \n",
       "4 -0.203587 -0.201216  ...  -0.009858   0.140562  -0.034304 -0.009085   \n",
       "\n",
       "   PAY_AMT2  PAY_AMT3  PAY_AMT4  PAY_AMT5  PAY_AMT6  label  \n",
       "0  0.124160  0.488183  0.454327  0.370272  0.343887      1  \n",
       "1  0.124160  0.016060  0.056501  0.370272 -0.082401      1  \n",
       "2  0.124160  0.016060  0.056501  0.084926 -0.391360      0  \n",
       "3 -0.076846  0.016060  0.056501  0.084926 -0.119586      0  \n",
       "4 -1.078550 -0.372758 -0.457199  0.084926  0.257636      0  \n",
       "\n",
       "[5 rows x 23 columns]"
      ]
     },
     "execution_count": 40,
     "metadata": {},
     "output_type": "execute_result"
    }
   ],
   "source": [
    "train_woe.head()"
   ]
  },
  {
   "cell_type": "code",
   "execution_count": 41,
   "id": "f9b2cb54-f17c-4966-b258-9e1c3e0e8df8",
   "metadata": {},
   "outputs": [],
   "source": [
    "final_data_woe = pd.concat([train_woe,test_woe])"
   ]
  },
  {
   "cell_type": "code",
   "execution_count": 42,
   "id": "7eb4cb63-7b8f-438c-a762-fcfde8c7a15b",
   "metadata": {},
   "outputs": [],
   "source": [
    "#save 2: pickle woe_transform\n",
    "filename = 'CreditScore_save2_woe_transform.pkl'\n",
    "pickle.dump(t, open(filename, 'wb'))"
   ]
  },
  {
   "cell_type": "code",
   "execution_count": 43,
   "id": "f7389ac5-3d98-4c30-94c5-fe0800c39c01",
   "metadata": {},
   "outputs": [],
   "source": [
    "features_use = [feat for feat in final_data_woe.columns if feat not in exclude_list]"
   ]
  },
  {
   "cell_type": "code",
   "execution_count": 44,
   "id": "286bb8ae-f845-4024-aa51-fe66a59d8b32",
   "metadata": {},
   "outputs": [
    {
     "data": {
      "text/plain": [
       "21"
      ]
     },
     "execution_count": 44,
     "metadata": {},
     "output_type": "execute_result"
    }
   ],
   "source": [
    "len(features_use)"
   ]
  },
  {
   "cell_type": "markdown",
   "id": "4aebeaae-4859-4545-b4f6-797ff51794bf",
   "metadata": {},
   "source": [
    "## 5. Calculate PSI\n",
    "* PSI (Population Stability Index) reflects the stability of the distribution. We often use it to screen features and evaluate model stability. The industry level is to drop features with a PSI greater than 0.2"
   ]
  },
  {
   "cell_type": "code",
   "execution_count": 46,
   "id": "ca96451f-fb9f-4365-8fcf-0e5f494bc456",
   "metadata": {},
   "outputs": [],
   "source": [
    "#get the feature name\n",
    "features_list = [feat for feat in train_woe.columns if feat not in exclude_list]\n",
    "#calculate PSI using toad\n",
    "psi_df = toad.metrics.PSI(train_woe[features_list], test_woe[features_list])\n",
    "#put into a dataframe\n",
    "psi_df = psi_df.reset_index()\n",
    "psi_df = psi_df.rename(columns = {'index' : 'feature',0:'psi'})"
   ]
  },
  {
   "cell_type": "code",
   "execution_count": 48,
   "id": "e3270b6a-2475-4d01-93fa-af9f99a43de4",
   "metadata": {},
   "outputs": [
    {
     "data": {
      "text/html": [
       "<div>\n",
       "<style scoped>\n",
       "    .dataframe tbody tr th:only-of-type {\n",
       "        vertical-align: middle;\n",
       "    }\n",
       "\n",
       "    .dataframe tbody tr th {\n",
       "        vertical-align: top;\n",
       "    }\n",
       "\n",
       "    .dataframe thead th {\n",
       "        text-align: right;\n",
       "    }\n",
       "</style>\n",
       "<table border=\"1\" class=\"dataframe\">\n",
       "  <thead>\n",
       "    <tr style=\"text-align: right;\">\n",
       "      <th></th>\n",
       "      <th>feature</th>\n",
       "      <th>psi</th>\n",
       "    </tr>\n",
       "  </thead>\n",
       "  <tbody>\n",
       "    <tr>\n",
       "      <th>1</th>\n",
       "      <td>EDUCATION</td>\n",
       "      <td>0.000258</td>\n",
       "    </tr>\n",
       "    <tr>\n",
       "      <th>12</th>\n",
       "      <td>BILL_AMT4</td>\n",
       "      <td>0.000330</td>\n",
       "    </tr>\n",
       "    <tr>\n",
       "      <th>14</th>\n",
       "      <td>BILL_AMT6</td>\n",
       "      <td>0.001591</td>\n",
       "    </tr>\n",
       "    <tr>\n",
       "      <th>13</th>\n",
       "      <td>BILL_AMT5</td>\n",
       "      <td>0.002520</td>\n",
       "    </tr>\n",
       "    <tr>\n",
       "      <th>9</th>\n",
       "      <td>BILL_AMT1</td>\n",
       "      <td>0.002634</td>\n",
       "    </tr>\n",
       "    <tr>\n",
       "      <th>19</th>\n",
       "      <td>PAY_AMT5</td>\n",
       "      <td>0.003066</td>\n",
       "    </tr>\n",
       "    <tr>\n",
       "      <th>15</th>\n",
       "      <td>PAY_AMT1</td>\n",
       "      <td>0.003402</td>\n",
       "    </tr>\n",
       "    <tr>\n",
       "      <th>18</th>\n",
       "      <td>PAY_AMT4</td>\n",
       "      <td>0.004556</td>\n",
       "    </tr>\n",
       "    <tr>\n",
       "      <th>10</th>\n",
       "      <td>BILL_AMT2</td>\n",
       "      <td>0.005398</td>\n",
       "    </tr>\n",
       "    <tr>\n",
       "      <th>20</th>\n",
       "      <td>PAY_AMT6</td>\n",
       "      <td>0.007230</td>\n",
       "    </tr>\n",
       "    <tr>\n",
       "      <th>11</th>\n",
       "      <td>BILL_AMT3</td>\n",
       "      <td>0.007589</td>\n",
       "    </tr>\n",
       "    <tr>\n",
       "      <th>16</th>\n",
       "      <td>PAY_AMT2</td>\n",
       "      <td>0.010605</td>\n",
       "    </tr>\n",
       "    <tr>\n",
       "      <th>6</th>\n",
       "      <td>PAY_4</td>\n",
       "      <td>0.011666</td>\n",
       "    </tr>\n",
       "    <tr>\n",
       "      <th>5</th>\n",
       "      <td>PAY_3</td>\n",
       "      <td>0.011933</td>\n",
       "    </tr>\n",
       "    <tr>\n",
       "      <th>4</th>\n",
       "      <td>PAY_2</td>\n",
       "      <td>0.012077</td>\n",
       "    </tr>\n",
       "    <tr>\n",
       "      <th>7</th>\n",
       "      <td>PAY_5</td>\n",
       "      <td>0.014513</td>\n",
       "    </tr>\n",
       "    <tr>\n",
       "      <th>17</th>\n",
       "      <td>PAY_AMT3</td>\n",
       "      <td>0.016165</td>\n",
       "    </tr>\n",
       "    <tr>\n",
       "      <th>0</th>\n",
       "      <td>LIMIT_BAL</td>\n",
       "      <td>0.018541</td>\n",
       "    </tr>\n",
       "    <tr>\n",
       "      <th>8</th>\n",
       "      <td>PAY_6</td>\n",
       "      <td>0.019574</td>\n",
       "    </tr>\n",
       "    <tr>\n",
       "      <th>3</th>\n",
       "      <td>PAY_0</td>\n",
       "      <td>0.022814</td>\n",
       "    </tr>\n",
       "    <tr>\n",
       "      <th>2</th>\n",
       "      <td>AGE</td>\n",
       "      <td>0.035298</td>\n",
       "    </tr>\n",
       "  </tbody>\n",
       "</table>\n",
       "</div>"
      ],
      "text/plain": [
       "      feature       psi\n",
       "1   EDUCATION  0.000258\n",
       "12  BILL_AMT4  0.000330\n",
       "14  BILL_AMT6  0.001591\n",
       "13  BILL_AMT5  0.002520\n",
       "9   BILL_AMT1  0.002634\n",
       "19   PAY_AMT5  0.003066\n",
       "15   PAY_AMT1  0.003402\n",
       "18   PAY_AMT4  0.004556\n",
       "10  BILL_AMT2  0.005398\n",
       "20   PAY_AMT6  0.007230\n",
       "11  BILL_AMT3  0.007589\n",
       "16   PAY_AMT2  0.010605\n",
       "6       PAY_4  0.011666\n",
       "5       PAY_3  0.011933\n",
       "4       PAY_2  0.012077\n",
       "7       PAY_5  0.014513\n",
       "17   PAY_AMT3  0.016165\n",
       "0   LIMIT_BAL  0.018541\n",
       "8       PAY_6  0.019574\n",
       "3       PAY_0  0.022814\n",
       "2         AGE  0.035298"
      ]
     },
     "execution_count": 48,
     "metadata": {},
     "output_type": "execute_result"
    }
   ],
   "source": [
    "psi_df.sort_values(by='psi')"
   ]
  },
  {
   "cell_type": "code",
   "execution_count": 49,
   "id": "09df2fa1-e1fd-49f9-8ce0-e7a200a00977",
   "metadata": {},
   "outputs": [],
   "source": [
    "# features less than 0.25\n",
    "psi025 = list(psi_df[psi_df.psi<0.25].feature)\n",
    "# features geater than 0.25\n",
    "psi_remove = list(psi_df[psi_df.psi>=0.25].feature)"
   ]
  },
  {
   "cell_type": "code",
   "execution_count": 50,
   "id": "da0e2093-a154-4db6-ab68-d3dd99d956c5",
   "metadata": {},
   "outputs": [
    {
     "data": {
      "text/plain": [
       "[]"
      ]
     },
     "execution_count": 50,
     "metadata": {},
     "output_type": "execute_result"
    }
   ],
   "source": [
    "psi_remove"
   ]
  },
  {
   "cell_type": "code",
   "execution_count": 51,
   "id": "f688282d-9602-440c-a082-0795add2eec6",
   "metadata": {},
   "outputs": [],
   "source": [
    "# keep exclude list\n",
    "for i in exclude_list:\n",
    "    if i in psi025:\n",
    "        pass\n",
    "    else:\n",
    "       psi025.append(i) "
   ]
  },
  {
   "cell_type": "code",
   "execution_count": 52,
   "id": "93dafb5a-2516-488c-861d-de8f99229fff",
   "metadata": {},
   "outputs": [],
   "source": [
    "# remove features that are geater than 0.25\n",
    "train_selected_woe_psi = train_woe[psi025]\n",
    "off_woe_psi = test_woe[psi025]"
   ]
  },
  {
   "cell_type": "code",
   "execution_count": 53,
   "id": "7837886a-3b9e-454b-8de7-6705662cf090",
   "metadata": {},
   "outputs": [],
   "source": [
    "# output our final data table\n",
    "final_data_woe = pd.concat([train_selected_woe_psi,off_woe_psi])"
   ]
  },
  {
   "cell_type": "code",
   "execution_count": 54,
   "id": "0003b1ae-b2c6-4d29-bf06-9c23358077b0",
   "metadata": {},
   "outputs": [
    {
     "name": "stdout",
     "output_type": "stream",
     "text": [
      "(30000, 23)\n"
     ]
    }
   ],
   "source": [
    "print(final_data_woe.shape)"
   ]
  },
  {
   "cell_type": "code",
   "execution_count": 55,
   "id": "c0d14543-0805-4e5f-9aee-e284de49f403",
   "metadata": {},
   "outputs": [],
   "source": [
    "#save 3: final data table with transformed woe\n",
    "final_data_woe.to_csv('CreditScore_save3_final_data_woe.csv')"
   ]
  },
  {
   "cell_type": "markdown",
   "id": "b365eae3-9dd7-42bf-bad6-4a693ac55f77",
   "metadata": {},
   "source": [
    "# 6. Output IV"
   ]
  },
  {
   "cell_type": "code",
   "execution_count": 56,
   "id": "407783a6-d90f-477a-9e79-bbfeb827b4d2",
   "metadata": {},
   "outputs": [
    {
     "data": {
      "text/plain": [
       "21"
      ]
     },
     "execution_count": 56,
     "metadata": {},
     "output_type": "execute_result"
    }
   ],
   "source": [
    "features_use = [feat for feat in final_data_woe.columns if feat not in exclude_list]\n",
    "len(features_use)"
   ]
  },
  {
   "cell_type": "code",
   "execution_count": 57,
   "id": "cda88c87-93df-4988-9b9c-fe98603f8dce",
   "metadata": {},
   "outputs": [],
   "source": [
    "df_iv=output_iv_importance(final_data_woe[features_use+['label']],'label')"
   ]
  },
  {
   "cell_type": "code",
   "execution_count": 58,
   "id": "837812f5-9695-436c-9daf-3ce4776b6edc",
   "metadata": {},
   "outputs": [
    {
     "data": {
      "text/html": [
       "<div>\n",
       "<style scoped>\n",
       "    .dataframe tbody tr th:only-of-type {\n",
       "        vertical-align: middle;\n",
       "    }\n",
       "\n",
       "    .dataframe tbody tr th {\n",
       "        vertical-align: top;\n",
       "    }\n",
       "\n",
       "    .dataframe thead th {\n",
       "        text-align: right;\n",
       "    }\n",
       "</style>\n",
       "<table border=\"1\" class=\"dataframe\">\n",
       "  <thead>\n",
       "    <tr style=\"text-align: right;\">\n",
       "      <th></th>\n",
       "      <th>name</th>\n",
       "      <th>iv</th>\n",
       "    </tr>\n",
       "  </thead>\n",
       "  <tbody>\n",
       "    <tr>\n",
       "      <th>0</th>\n",
       "      <td>PAY_0</td>\n",
       "      <td>0.873565</td>\n",
       "    </tr>\n",
       "    <tr>\n",
       "      <th>1</th>\n",
       "      <td>PAY_2</td>\n",
       "      <td>0.546857</td>\n",
       "    </tr>\n",
       "    <tr>\n",
       "      <th>2</th>\n",
       "      <td>PAY_3</td>\n",
       "      <td>0.412420</td>\n",
       "    </tr>\n",
       "    <tr>\n",
       "      <th>3</th>\n",
       "      <td>PAY_4</td>\n",
       "      <td>0.359289</td>\n",
       "    </tr>\n",
       "    <tr>\n",
       "      <th>4</th>\n",
       "      <td>PAY_5</td>\n",
       "      <td>0.333734</td>\n",
       "    </tr>\n",
       "    <tr>\n",
       "      <th>5</th>\n",
       "      <td>PAY_6</td>\n",
       "      <td>0.285164</td>\n",
       "    </tr>\n",
       "    <tr>\n",
       "      <th>6</th>\n",
       "      <td>LIMIT_BAL</td>\n",
       "      <td>0.181621</td>\n",
       "    </tr>\n",
       "    <tr>\n",
       "      <th>7</th>\n",
       "      <td>PAY_AMT1</td>\n",
       "      <td>0.173425</td>\n",
       "    </tr>\n",
       "    <tr>\n",
       "      <th>8</th>\n",
       "      <td>PAY_AMT2</td>\n",
       "      <td>0.162703</td>\n",
       "    </tr>\n",
       "    <tr>\n",
       "      <th>9</th>\n",
       "      <td>PAY_AMT3</td>\n",
       "      <td>0.114630</td>\n",
       "    </tr>\n",
       "    <tr>\n",
       "      <th>10</th>\n",
       "      <td>PAY_AMT4</td>\n",
       "      <td>0.104007</td>\n",
       "    </tr>\n",
       "    <tr>\n",
       "      <th>11</th>\n",
       "      <td>PAY_AMT6</td>\n",
       "      <td>0.101453</td>\n",
       "    </tr>\n",
       "    <tr>\n",
       "      <th>12</th>\n",
       "      <td>PAY_AMT5</td>\n",
       "      <td>0.087383</td>\n",
       "    </tr>\n",
       "    <tr>\n",
       "      <th>13</th>\n",
       "      <td>AGE</td>\n",
       "      <td>0.021193</td>\n",
       "    </tr>\n",
       "    <tr>\n",
       "      <th>14</th>\n",
       "      <td>EDUCATION</td>\n",
       "      <td>0.015987</td>\n",
       "    </tr>\n",
       "    <tr>\n",
       "      <th>15</th>\n",
       "      <td>BILL_AMT5</td>\n",
       "      <td>0.012865</td>\n",
       "    </tr>\n",
       "    <tr>\n",
       "      <th>16</th>\n",
       "      <td>BILL_AMT2</td>\n",
       "      <td>0.008361</td>\n",
       "    </tr>\n",
       "    <tr>\n",
       "      <th>17</th>\n",
       "      <td>BILL_AMT6</td>\n",
       "      <td>0.007382</td>\n",
       "    </tr>\n",
       "    <tr>\n",
       "      <th>18</th>\n",
       "      <td>BILL_AMT3</td>\n",
       "      <td>0.006877</td>\n",
       "    </tr>\n",
       "    <tr>\n",
       "      <th>19</th>\n",
       "      <td>BILL_AMT1</td>\n",
       "      <td>0.002872</td>\n",
       "    </tr>\n",
       "    <tr>\n",
       "      <th>20</th>\n",
       "      <td>BILL_AMT4</td>\n",
       "      <td>0.000979</td>\n",
       "    </tr>\n",
       "  </tbody>\n",
       "</table>\n",
       "</div>"
      ],
      "text/plain": [
       "         name        iv\n",
       "0       PAY_0  0.873565\n",
       "1       PAY_2  0.546857\n",
       "2       PAY_3  0.412420\n",
       "3       PAY_4  0.359289\n",
       "4       PAY_5  0.333734\n",
       "5       PAY_6  0.285164\n",
       "6   LIMIT_BAL  0.181621\n",
       "7    PAY_AMT1  0.173425\n",
       "8    PAY_AMT2  0.162703\n",
       "9    PAY_AMT3  0.114630\n",
       "10   PAY_AMT4  0.104007\n",
       "11   PAY_AMT6  0.101453\n",
       "12   PAY_AMT5  0.087383\n",
       "13        AGE  0.021193\n",
       "14  EDUCATION  0.015987\n",
       "15  BILL_AMT5  0.012865\n",
       "16  BILL_AMT2  0.008361\n",
       "17  BILL_AMT6  0.007382\n",
       "18  BILL_AMT3  0.006877\n",
       "19  BILL_AMT1  0.002872\n",
       "20  BILL_AMT4  0.000979"
      ]
     },
     "execution_count": 58,
     "metadata": {},
     "output_type": "execute_result"
    }
   ],
   "source": [
    "df_iv"
   ]
  },
  {
   "cell_type": "code",
   "execution_count": 59,
   "id": "a48540c7-0fa9-4f13-9b20-52fbb5fd67ad",
   "metadata": {},
   "outputs": [],
   "source": [
    "#save 4: information value after woe transformation\n",
    "df_iv.to_csv('CreditScore_save4_IV.csv')"
   ]
  },
  {
   "cell_type": "markdown",
   "id": "9867138f-268b-4ffa-ac21-853f557f2ac6",
   "metadata": {},
   "source": [
    "# 7. Model Training and Testing"
   ]
  },
  {
   "cell_type": "code",
   "execution_count": 71,
   "id": "b706acce-5586-4ee5-815f-ff4d916063b8",
   "metadata": {},
   "outputs": [],
   "source": [
    "from sklearn.metrics import RocCurveDisplay\n",
    "\n",
    "def check_train_test_auc(x_train,y_train,x_test,y_test):\n",
    "    # 用逻辑回归建模\n",
    "    from sklearn.linear_model import LogisticRegression\n",
    "    lr = LogisticRegression(random_state=42,C= 0.1, penalty='l2', solver='newton-cg')\n",
    "\n",
    "\n",
    "    lr = LogisticRegression(class_weight='balanced')\n",
    "    lr.fit(x_train, y_train)\n",
    "\n",
    "    # 预测训练和隔月的OOT\n",
    "    pred_train = lr.predict_proba(x_train)[:,1]\n",
    "    from toad.metrics import KS, AUC\n",
    "\n",
    "    print('train KS',KS(pred_train, y_train))\n",
    "    print('train AUC',AUC(pred_train, y_train))\n",
    "    \n",
    "    pred_OOT =lr.predict_proba(x_test)[:,1]\n",
    "    print('Test KS',KS(pred_OOT, y_test))\n",
    "    print('Test AUC',AUC(pred_OOT, y_test))\n",
    "    \n",
    "    from sklearn.metrics import confusion_matrix, accuracy_score, roc_auc_score, classification_report\n",
    "\n",
    "    fig, ax = plt.subplots(figsize=(12, 8))\n",
    "    RocCurveDisplay.from_estimator(lr, x_test, y_test, color='blue', ax=ax)\n",
    "    plt.show()\n",
    "    #plot_roc_curve(lr, x_test, y_test, color='blue', ax=ax)"
   ]
  },
  {
   "cell_type": "code",
   "execution_count": 72,
   "id": "d7b97825-2655-40a7-98aa-4ba390d1184c",
   "metadata": {},
   "outputs": [
    {
     "name": "stdout",
     "output_type": "stream",
     "text": [
      "train KS 0.40988185783295383\n",
      "train AUC 0.770323829518966\n",
      "Test KS 0.4264763906414198\n",
      "Test AUC 0.7834654730791719\n"
     ]
    },
    {
     "data": {
      "image/png": "[encoded data removed]",
      "text/plain": [
       "<Figure size 1200x800 with 1 Axes>"
      ]
     },
     "metadata": {},
     "output_type": "display_data"
    }
   ],
   "source": [
    "#train & test\n",
    "from sklearn.metrics import roc_auc_score,roc_curve,auc,precision_recall_curve\n",
    "\n",
    "check_train_test_auc(x_train = train_woe[features_use],y_train=train_woe['label'],\n",
    "                     x_test =test_woe[features_use] ,y_test = test_woe['label'])"
   ]
  },
  {
   "cell_type": "markdown",
   "id": "ec745882-62e0-43af-af8b-505a0630de18",
   "metadata": {},
   "source": [
    "# 8 Hyperparameter Optimisation\n",
    "## Apply Bayesian Optimisation to identify hyperparameters for optimal performance\n",
    "## Validate best model with test data"
   ]
  },
  {
   "cell_type": "code",
   "execution_count": 108,
   "id": "ed6e5257-abdf-46f1-80aa-ed4877b27b3b",
   "metadata": {},
   "outputs": [
    {
     "name": "stdout",
     "output_type": "stream",
     "text": [
      "Fitting 5 folds for each of 1 candidates, totalling 5 fits\n",
      "Fitting 5 folds for each of 1 candidates, totalling 5 fits\n",
      "Fitting 5 folds for each of 1 candidates, totalling 5 fits\n",
      "Fitting 5 folds for each of 1 candidates, totalling 5 fits\n",
      "Fitting 5 folds for each of 1 candidates, totalling 5 fits\n",
      "Fitting 5 folds for each of 1 candidates, totalling 5 fits\n",
      "Fitting 5 folds for each of 1 candidates, totalling 5 fits\n",
      "Fitting 5 folds for each of 1 candidates, totalling 5 fits\n",
      "Fitting 5 folds for each of 1 candidates, totalling 5 fits\n",
      "Fitting 5 folds for each of 1 candidates, totalling 5 fits\n",
      "Fitting 5 folds for each of 1 candidates, totalling 5 fits\n",
      "Fitting 5 folds for each of 1 candidates, totalling 5 fits\n",
      "Fitting 5 folds for each of 1 candidates, totalling 5 fits\n",
      "Fitting 5 folds for each of 1 candidates, totalling 5 fits\n",
      "Fitting 5 folds for each of 1 candidates, totalling 5 fits\n",
      "Fitting 5 folds for each of 1 candidates, totalling 5 fits\n",
      "Fitting 5 folds for each of 1 candidates, totalling 5 fits\n",
      "Fitting 5 folds for each of 1 candidates, totalling 5 fits\n",
      "Fitting 5 folds for each of 1 candidates, totalling 5 fits\n",
      "Fitting 5 folds for each of 1 candidates, totalling 5 fits\n",
      "Fitting 5 folds for each of 1 candidates, totalling 5 fits\n",
      "Fitting 5 folds for each of 1 candidates, totalling 5 fits\n",
      "Fitting 5 folds for each of 1 candidates, totalling 5 fits\n",
      "Fitting 5 folds for each of 1 candidates, totalling 5 fits\n",
      "Fitting 5 folds for each of 1 candidates, totalling 5 fits\n",
      "Fitting 5 folds for each of 1 candidates, totalling 5 fits\n",
      "Fitting 5 folds for each of 1 candidates, totalling 5 fits\n",
      "Fitting 5 folds for each of 1 candidates, totalling 5 fits\n",
      "Fitting 5 folds for each of 1 candidates, totalling 5 fits\n",
      "Fitting 5 folds for each of 1 candidates, totalling 5 fits\n",
      "Fitting 5 folds for each of 1 candidates, totalling 5 fits\n",
      "Fitting 5 folds for each of 1 candidates, totalling 5 fits\n",
      "Fitting 5 folds for each of 1 candidates, totalling 5 fits\n",
      "Fitting 5 folds for each of 1 candidates, totalling 5 fits\n",
      "Fitting 5 folds for each of 1 candidates, totalling 5 fits\n",
      "Fitting 5 folds for each of 1 candidates, totalling 5 fits\n",
      "Fitting 5 folds for each of 1 candidates, totalling 5 fits\n",
      "Fitting 5 folds for each of 1 candidates, totalling 5 fits\n",
      "Fitting 5 folds for each of 1 candidates, totalling 5 fits\n",
      "Fitting 5 folds for each of 1 candidates, totalling 5 fits\n",
      "Fitting 5 folds for each of 1 candidates, totalling 5 fits\n",
      "Fitting 5 folds for each of 1 candidates, totalling 5 fits\n",
      "Fitting 5 folds for each of 1 candidates, totalling 5 fits\n",
      "Fitting 5 folds for each of 1 candidates, totalling 5 fits\n",
      "Fitting 5 folds for each of 1 candidates, totalling 5 fits\n",
      "Fitting 5 folds for each of 1 candidates, totalling 5 fits\n",
      "Fitting 5 folds for each of 1 candidates, totalling 5 fits\n",
      "Fitting 5 folds for each of 1 candidates, totalling 5 fits\n",
      "Fitting 5 folds for each of 1 candidates, totalling 5 fits\n",
      "Fitting 5 folds for each of 1 candidates, totalling 5 fits\n",
      "Best Hyperparameters: OrderedDict([('C', 0.740371175253109), ('max_iter', 487), ('penalty', 'l2'), ('solver', 'liblinear')])\n",
      "Best Training AUC Score: 0.7683414657194731\n",
      "Test AUC 0.783395588874261\n",
      "Test KS 0.4261144902945598\n"
     ]
    },
    {
     "data": {
      "image/png": "[encoded data removed]",
      "text/plain": [
       "<Figure size 1200x800 with 1 Axes>"
      ]
     },
     "metadata": {},
     "output_type": "display_data"
    }
   ],
   "source": [
    "import numpy as np\n",
    "from skopt import BayesSearchCV\n",
    "from sklearn.linear_model import LogisticRegression\n",
    "from sklearn.datasets import make_classification\n",
    "from sklearn.model_selection import train_test_split\n",
    "from sklearn.metrics import make_scorer, roc_auc_score\n",
    "from toad.metrics import KS, AUC\n",
    "import matplotlib.pyplot as plt\n",
    "from sklearn.metrics import RocCurveDisplay\n",
    "\n",
    "\n",
    "x_train = train_woe[features_use]\n",
    "y_train = train_woe['label']\n",
    "x_test = test_woe[features_use]\n",
    "y_test = test_woe['label']\n",
    "\n",
    "# Define logistic regression model\n",
    "lr = LogisticRegression(class_weight='balanced', random_state=42)\n",
    "\n",
    "# Define parameter search space\n",
    "param_space = {\n",
    "    'C': (0.01, 100.0, 'log-uniform'),  # Inverse of regularization strength\n",
    "    'penalty': ['l2'],  # Regularization penalty\n",
    "    'solver': ['liblinear', 'newton-cg', 'sag', 'saga'],  # Algorithm to use in optimization\n",
    "    'max_iter': (100, 5000),  # Maximum number of iterations\n",
    "}\n",
    "\n",
    "# Define custom scorers for AUC and KS\n",
    "def auc_scorer_func(y_true, y_pred_proba):\n",
    "    return AUC(y_pred_proba, y_true)\n",
    "\n",
    "def ks_scorer_func(y_true, y_pred_proba):\n",
    "    return KS(y_pred_proba, y_true)\n",
    "\n",
    "auc_scorer = make_scorer(auc_scorer_func, needs_proba=True)\n",
    "ks_scorer = make_scorer(ks_scorer_func, needs_proba=True)\n",
    "\n",
    "# Perform Bayesian optimization using 5-fold cross-validation\n",
    "bayes_search = BayesSearchCV(\n",
    "    estimator=lr,\n",
    "    search_spaces=param_space,\n",
    "    scoring=auc_scorer,\n",
    "    cv=5,\n",
    "    n_jobs=-1,\n",
    "    n_iter=50,  # Number of parameter settings that are sampled\n",
    "    verbose=1,\n",
    "    refit=True,\n",
    "    random_state=42\n",
    ")\n",
    "\n",
    "# Fit the Bayesian search to the training data\n",
    "bayes_search.fit(x_train, y_train)\n",
    "\n",
    "# Print best hyperparameters and corresponding AUC score\n",
    "print(\"Best Hyperparameters:\", bayes_search.best_params_)\n",
    "print(\"Best Training AUC Score:\", bayes_search.best_score_)\n",
    "\n",
    "# Evaluate on the test set using the best estimator\n",
    "best_lr = bayes_search.best_estimator_\n",
    "pred_test = best_lr.predict_proba(x_test)[:, 1]\n",
    "\n",
    "# Calculate and print test AUC score\n",
    "print('Test AUC', AUC(pred_test, y_test))\n",
    "#test_auc = roc_auc_score(y_test, pred_test)\n",
    "#print(\"Test AUC Score (using best estimator):\", test_auc)\n",
    "\n",
    "# Print other evaluation metrics\n",
    "print('Test KS', KS(pred_test, y_test))\n",
    "\n",
    "# Display ROC curve\n",
    "fig, ax = plt.subplots(figsize=(12, 8))\n",
    "RocCurveDisplay.from_estimator(best_lr, x_test, y_test, color='blue', ax=ax)\n",
    "plt.show()\n"
   ]
  },
  {
   "cell_type": "code",
   "execution_count": null,
   "id": "7ddaf095-1ca6-41d8-81dd-7e93013980b6",
   "metadata": {},
   "outputs": [],
   "source": []
  },
  {
   "cell_type": "code",
   "execution_count": null,
   "id": "48b73b87-0d55-4e71-9eda-1a7964bd618d",
   "metadata": {},
   "outputs": [],
   "source": []
  }
 ],
 "metadata": {
  "kernelspec": {
   "display_name": "Python 3 (ipykernel)",
   "language": "python",
   "name": "python3"
  },
  "language_info": {
   "codemirror_mode": {
    "name": "ipython",
    "version": 3
   },
   "file_extension": ".py",
   "mimetype": "text/x-python",
   "name": "python",
   "nbconvert_exporter": "python",
   "pygments_lexer": "ipython3",
   "version": "3.11.7"
  }
 },
 "nbformat": 4,
 "nbformat_minor": 5
}
